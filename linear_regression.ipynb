{
  "nbformat": 4,
  "nbformat_minor": 0,
  "metadata": {
    "colab": {
      "name": "Untitled1.ipynb",
      "version": "0.3.2",
      "provenance": [],
      "include_colab_link": true
    },
    "kernelspec": {
      "name": "python3",
      "display_name": "Python 3"
    },
    "accelerator": "GPU"
  },
  "cells": [
    {
      "cell_type": "markdown",
      "metadata": {
        "id": "view-in-github",
        "colab_type": "text"
      },
      "source": [
        "<a href=\"https://colab.research.google.com/github/tallpress/fastai/blob/master/linear_regression.ipynb\" target=\"_parent\"><img src=\"https://colab.research.google.com/assets/colab-badge.svg\" alt=\"Open In Colab\"/></a>"
      ]
    },
    {
      "cell_type": "markdown",
      "metadata": {
        "id": "VKmJzJFfqaH0",
        "colab_type": "text"
      },
      "source": [
        "##Linear Regresssion"
      ]
    },
    {
      "cell_type": "code",
      "metadata": {
        "id": "g1CAYzDVrzJc",
        "colab_type": "code",
        "colab": {}
      },
      "source": [
        "from fastai import *\n",
        "from torch import tensor\n",
        "from torch import torch\n",
        "import matplotlib.pyplot as plt\n",
        "from matplotlib import *\n",
        "%matplotlib inline\n",
        "%reload_ext autoreload\n",
        "%autoreload 2"
      ],
      "execution_count": 0,
      "outputs": []
    },
    {
      "cell_type": "code",
      "metadata": {
        "id": "pAfzOPbKxh7c",
        "colab_type": "code",
        "colab": {}
      },
      "source": [
        "%matplotlib inline\n",
        "from fastai.basics import *"
      ],
      "execution_count": 0,
      "outputs": []
    },
    {
      "cell_type": "markdown",
      "metadata": {
        "id": "4Z7GQzX3r6aB",
        "colab_type": "text"
      },
      "source": [
        "Fitting a line to a set of points. First create data"
      ]
    },
    {
      "cell_type": "code",
      "metadata": {
        "id": "hLRMkMjQqScS",
        "colab_type": "code",
        "colab": {}
      },
      "source": [
        "n = 100"
      ],
      "execution_count": 0,
      "outputs": []
    },
    {
      "cell_type": "code",
      "metadata": {
        "id": "PZKUWLwPsFjx",
        "colab_type": "code",
        "colab": {
          "base_uri": "https://localhost:8080/",
          "height": 102
        },
        "outputId": "3a1d0e6c-4848-4e59-8c95-78eae5f1894b"
      },
      "source": [
        "x = torch.ones(n,2)\n",
        "x[:,0].uniform_(-1,1)\n",
        "x[:5]"
      ],
      "execution_count": 51,
      "outputs": [
        {
          "output_type": "execute_result",
          "data": {
            "text/plain": [
              "tensor([[-0.9926,  1.0000],\n",
              "        [-0.2416,  1.0000],\n",
              "        [ 0.2211,  1.0000],\n",
              "        [-0.8254,  1.0000],\n",
              "        [-0.8837,  1.0000]])"
            ]
          },
          "metadata": {
            "tags": []
          },
          "execution_count": 51
        }
      ]
    },
    {
      "cell_type": "code",
      "metadata": {
        "id": "zqaK1Qb0uPy1",
        "colab_type": "code",
        "colab": {
          "base_uri": "https://localhost:8080/",
          "height": 34
        },
        "outputId": "ac588df7-24a1-4b19-c256-af4ce4bd7a2f"
      },
      "source": [
        "a = tensor([3., 2.]); a"
      ],
      "execution_count": 52,
      "outputs": [
        {
          "output_type": "execute_result",
          "data": {
            "text/plain": [
              "tensor([3., 2.])"
            ]
          },
          "metadata": {
            "tags": []
          },
          "execution_count": 52
        }
      ]
    },
    {
      "cell_type": "code",
      "metadata": {
        "id": "bsal5pICu_OA",
        "colab_type": "code",
        "colab": {}
      },
      "source": [
        "y = x@a + torch.rand(n)"
      ],
      "execution_count": 0,
      "outputs": []
    },
    {
      "cell_type": "code",
      "metadata": {
        "id": "gLo2tNiGvHU3",
        "colab_type": "code",
        "colab": {
          "base_uri": "https://localhost:8080/",
          "height": 269
        },
        "outputId": "86e3ab7d-5127-4834-e43b-1244bd5df3f6"
      },
      "source": [
        "plt.scatter(x[:,0], y);"
      ],
      "execution_count": 54,
      "outputs": [
        {
          "output_type": "display_data",
          "data": {
            "image/png": "[encoded data removed]",
            "text/plain": [
              "<Figure size 432x288 with 1 Axes>"
            ]
          },
          "metadata": {
            "tags": []
          }
        }
      ]
    },
    {
      "cell_type": "markdown",
      "metadata": {
        "id": "f-UyloO-ybAr",
        "colab_type": "text"
      },
      "source": [
        "We want to find weights a such that you minimise the error between the points and the line `x@a`. Need an error function or loss function. Use mean sqaure error in this case"
      ]
    },
    {
      "cell_type": "code",
      "metadata": {
        "id": "Df7sFG_hynmR",
        "colab_type": "code",
        "colab": {}
      },
      "source": [
        "def mse(y_hat, y):\n",
        "  return ((y_hat-y)**2).mean()"
      ],
      "execution_count": 0,
      "outputs": []
    },
    {
      "cell_type": "markdown",
      "metadata": {
        "id": "WbEAmlBm1GVt",
        "colab_type": "text"
      },
      "source": [
        "Calc mse with an dummy example of  `a = (-1.0, 1.0)`"
      ]
    },
    {
      "cell_type": "code",
      "metadata": {
        "id": "kx61PrxP05jd",
        "colab_type": "code",
        "colab": {}
      },
      "source": [
        "a = tensor(-1.,1)"
      ],
      "execution_count": 0,
      "outputs": []
    },
    {
      "cell_type": "code",
      "metadata": {
        "id": "SG_RwS-00_8L",
        "colab_type": "code",
        "colab": {
          "base_uri": "https://localhost:8080/",
          "height": 34
        },
        "outputId": "49794c0a-bb7c-42e5-a62d-9c2b32b5b47c"
      },
      "source": [
        "y_hat = x@a\n",
        "mse(y_hat, y)"
      ],
      "execution_count": 57,
      "outputs": [
        {
          "output_type": "execute_result",
          "data": {
            "text/plain": [
              "tensor(6.0070)"
            ]
          },
          "metadata": {
            "tags": []
          },
          "execution_count": 57
        }
      ]
    },
    {
      "cell_type": "markdown",
      "metadata": {
        "id": "SZCdQ4ks1YPO",
        "colab_type": "text"
      },
      "source": [
        "So our loss is the result of that tensor. Plotting the line reveals that our prediction is pretty terriblibly wrong"
      ]
    },
    {
      "cell_type": "code",
      "metadata": {
        "id": "hWCh559k1iA0",
        "colab_type": "code",
        "colab": {
          "base_uri": "https://localhost:8080/",
          "height": 286
        },
        "outputId": "d4ec8aa9-3595-409a-ecfa-287cc79b07f8"
      },
      "source": [
        "plt.scatter(x[:,0],y)\n",
        "plt.scatter(x[:,0], y_hat)"
      ],
      "execution_count": 58,
      "outputs": [
        {
          "output_type": "execute_result",
          "data": {
            "text/plain": [
              "<matplotlib.collections.PathCollection at 0x7ff65b596898>"
            ]
          },
          "metadata": {
            "tags": []
          },
          "execution_count": 58
        },
        {
          "output_type": "display_data",
          "data": {
            "image/png": "[encoded data removed]",
            "text/plain": [
              "<Figure size 432x288 with 1 Axes>"
            ]
          },
          "metadata": {
            "tags": []
          }
        }
      ]
    },
    {
      "cell_type": "markdown",
      "metadata": {
        "id": "3_IcnDKF2DpJ",
        "colab_type": "text"
      },
      "source": [
        "We want to aim to improve guess by experimenting with `a` and finding the best set of values that minimise the loss function"
      ]
    },
    {
      "cell_type": "markdown",
      "metadata": {
        "id": "L3R4g2C42U8Z",
        "colab_type": "text"
      },
      "source": [
        "### Gradient Descent"
      ]
    },
    {
      "cell_type": "markdown",
      "metadata": {
        "id": "vMwk7xOw_eue",
        "colab_type": "text"
      },
      "source": [
        "Gradient decent implemeted in PyTorch"
      ]
    },
    {
      "cell_type": "code",
      "metadata": {
        "id": "iL_xTPH_2exm",
        "colab_type": "code",
        "colab": {
          "base_uri": "https://localhost:8080/",
          "height": 51
        },
        "outputId": "c6238125-ddb8-49ee-f4b6-65b6980ec223"
      },
      "source": [
        "a = nn.Parameter(a); a"
      ],
      "execution_count": 59,
      "outputs": [
        {
          "output_type": "execute_result",
          "data": {
            "text/plain": [
              "Parameter containing:\n",
              "tensor([-1.,  1.], requires_grad=True)"
            ]
          },
          "metadata": {
            "tags": []
          },
          "execution_count": 59
        }
      ]
    },
    {
      "cell_type": "code",
      "metadata": {
        "id": "EMynrEwM_kjX",
        "colab_type": "code",
        "colab": {}
      },
      "source": [
        "def update():\n",
        "  y_hat = x@a\n",
        "  loss = mse(y, y_hat)\n",
        "  if t % 10 == 0:\n",
        "    print(loss)\n",
        "  loss.backward()\n",
        "  with torch.no_grad():\n",
        "    a.sub_(lr * a.grad)\n",
        "    a.grad.zero_()"
      ],
      "execution_count": 0,
      "outputs": []
    },
    {
      "cell_type": "code",
      "metadata": {
        "id": "sejlZeDXAQ6X",
        "colab_type": "code",
        "colab": {
          "base_uri": "https://localhost:8080/",
          "height": 187
        },
        "outputId": "48f80485-b39e-4508-f0e3-6344e0e1fc03"
      },
      "source": [
        "lr = 1e-1\n",
        "for t in range(100):\n",
        "  update()"
      ],
      "execution_count": 63,
      "outputs": [
        {
          "output_type": "stream",
          "text": [
            "tensor(0.0893, grad_fn=<MeanBackward0>)\n",
            "tensor(0.0892, grad_fn=<MeanBackward0>)\n",
            "tensor(0.0892, grad_fn=<MeanBackward0>)\n",
            "tensor(0.0892, grad_fn=<MeanBackward0>)\n",
            "tensor(0.0892, grad_fn=<MeanBackward0>)\n",
            "tensor(0.0892, grad_fn=<MeanBackward0>)\n",
            "tensor(0.0892, grad_fn=<MeanBackward0>)\n",
            "tensor(0.0892, grad_fn=<MeanBackward0>)\n",
            "tensor(0.0892, grad_fn=<MeanBackward0>)\n",
            "tensor(0.0892, grad_fn=<MeanBackward0>)\n"
          ],
          "name": "stdout"
        }
      ]
    },
    {
      "cell_type": "code",
      "metadata": {
        "id": "URtJa9RfCcJb",
        "colab_type": "code",
        "colab": {
          "base_uri": "https://localhost:8080/",
          "height": 286
        },
        "outputId": "ddfef68a-0602-4a51-e7f9-100f36a03d5e"
      },
      "source": [
        "plt.scatter(x[:,0],y)\n",
        "plt.scatter(x[:,0], x@a)"
      ],
      "execution_count": 65,
      "outputs": [
        {
          "output_type": "execute_result",
          "data": {
            "text/plain": [
              "<matplotlib.collections.PathCollection at 0x7ff65a442ac8>"
            ]
          },
          "metadata": {
            "tags": []
          },
          "execution_count": 65
        },
        {
          "output_type": "display_data",
          "data": {
            "image/png": "[encoded data removed]",
            "text/plain": [
              "<Figure size 432x288 with 1 Axes>"
            ]
          },
          "metadata": {
            "tags": []
          }
        }
      ]
    }
  ]
}